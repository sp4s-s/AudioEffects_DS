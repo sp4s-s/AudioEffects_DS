{
 "cells": [
  {
   "cell_type": "code",
   "execution_count": null,
   "id": "add2426a",
   "metadata": {},
   "outputs": [],
   "source": [
    "import librosa as lb\n",
    "import numpy as n\n",
    "import soundfile as sf\n",
    "from pathlib import Path\n",
    "import os\n",
    "import random"
   ]
  },
  {
   "cell_type": "code",
   "execution_count": null,
   "id": "8fc0e529",
   "metadata": {},
   "outputs": [],
   "source": [
    "! pip install librosa soundfile"
   ]
  },
  {
   "cell_type": "code",
   "execution_count": null,
   "id": "4533b82c",
   "metadata": {},
   "outputs": [],
   "source": [
    "p = './ds/pink.mp3'\n",
    "audio , sr = lb.load(p, sr= None)\n",
    "audio , sr"
   ]
  },
  {
   "cell_type": "code",
   "execution_count": null,
   "id": "0fbe3e0b",
   "metadata": {},
   "outputs": [],
   "source": [
    "def split( y, sr, min = 3 , max = 10 , n_chunks = 5):\n",
    "    \"\"\"\n",
    "    Splits a signal into n_chunks of random length between min and max\n",
    "    \"\"\"\n",
    "    chunks = []\n",
    "    out = {}    # target label for each chunk in secs\n",
    "    for i in range(n_chunks):\n",
    "        start = n.random.randint(0, len(y) - sr * max)\n",
    "        end = start + n.random.randint(sr * min, sr * max)\n",
    "        chunks.append(y[start:end])\n",
    "        out[i] = (start, end)\n",
    "    print(\"Chunks:\", chunks)\n",
    "    print(\"Out:\", out)\n",
    "    return chunks , out\n",
    "    \n",
    "def y2wav(y, sr, path='chunk.wav'):\n",
    "    sf.write(path, y, sr)\n",
    "    return path\n",
    "\n",
    "def shuffle(lst, m):\n",
    "    if not lst:\n",
    "        return []\n",
    "    shuffled = lst[:]\n",
    "    random.shuffle(shuffled)\n",
    "    return (shuffled * ((m // len(lst)) + 1))[:m] if m > len(lst) else shuffled[:m]"
   ]
  },
  {
   "cell_type": "code",
   "execution_count": null,
   "id": "4f61d0c2",
   "metadata": {},
   "outputs": [],
   "source": [
    "## Action\n",
    "for i in range(5):\n",
    "    y = split(audio, sr, 3, 10, 5)\n",
    "    for j in range(len(y)):\n",
    "        y2wav(y[j], sr, f'chunk_{i}_{j}.wav')\n",
    "        print(f'chunk_{i}_{j}.wav')\n",
    "\n",
    "def remove_wav_files():\n",
    "    for root, dir, files in os.walk('./'):\n",
    "        for file in files:\n",
    "            if file.endswith('.wav') & file.startswith('chunk_'):\n",
    "                print(os.path.join(root, file))\n",
    "                os.remove(os.path.join(root, file))"
   ]
  },
  {
   "cell_type": "code",
   "execution_count": null,
   "id": "d0a7b659",
   "metadata": {},
   "outputs": [],
   "source": [
    "def pitchify(y, sr, n_steps=1):\n",
    "    y = lb.effects.pitch_shift(y, sr, n_steps)\n",
    "    return y\n",
    "def time_stretch(y, rate=1.0):\n",
    "    y = lb.effects.time_stretch(y, rate)\n",
    "    return y\n",
    "def noise(y, noise_factor=0.005):\n",
    "    noise = n.random.randn(len(y))\n",
    "    y = y + noise_factor * noise\n",
    "    return y"
   ]
  },
  {
   "cell_type": "code",
   "execution_count": null,
   "id": "a50c01bb",
   "metadata": {},
   "outputs": [],
   "source": [
    "def apply_effects(y, effects, m_file,  sr=44100):\n",
    "    file_names = []\n",
    "    for i, effect in enumerate(effects):\n",
    "        m_file = f\"{m_file}_{effect}_\" if effect != None else None\n",
    "        if effect == \"pitchify\":\n",
    "            steps = n.random.uniform(-3,3)\n",
    "            y = pitchify(y)\n",
    "            name = f'{m_file}_{i}.wav'\n",
    "            file_names.append(name)\n",
    "            save_chunks(y, sr, name)\n",
    "        elif effect == \"time_stretch\":\n",
    "            rate = n.random.uniform(0.4, 2.5)\n",
    "            y = time_stretch(y, rate)\n",
    "            name = f'{m_file}_{i}.wav'\n",
    "            save_chunks(y, sr, name)\n",
    "            file_names.append(name)\n",
    "        elif effect == \"noise\":\n",
    "            noise_factor = n.random.uniform(0.001, 0.01)\n",
    "            y = noise(y, noise_factor)\n",
    "            name = f'{m_file}_{i}.wav'\n",
    "            save_chunks(y, sr, name)\n",
    "            file_names.append(name)\n",
    "\n",
    "    return file_names\n",
    "\n",
    "def save_chunks(y, sr , m_file, path='chunks/' ):\n",
    "    chunk_paths = {}\n",
    "    if not Path(path).exists():\n",
    "        Path(path).mkdir(parents=True, exist_ok=True)\n",
    "    for i, chunk in enumerate(y):\n",
    "        sf.write(f'{path}/{m_file}_chunk_{i}.wav', chunk, sr)\n",
    "        print(f'{m_file}_chunk_{i}.wav')\n",
    "        chunk_paths[i] = f'{path}/{m_file}_chunk_{i}.wav'\n",
    "    return chunk_paths"
   ]
  },
  {
   "cell_type": "code",
   "execution_count": null,
   "id": "d5ceced0",
   "metadata": {},
   "outputs": [],
   "source": []
  },
  {
   "cell_type": "code",
   "execution_count": null,
   "metadata": {},
   "outputs": [],
   "source": [
    "from itertools import chain\n",
    "def ds_create(path: Path):\n",
    "    files = list(chain(path.glob('*.wav'), path.glob('*.mp3'), path.glob('*.flac')))\n",
    "    if len(files) == 0:\n",
    "        print(\"No files found\")\n",
    "        return\n",
    "    print(files)\n",
    "    print(f\"Found {len(files)} files\")\n",
    "    label = {}\n",
    "\n",
    "    for i, file in enumerate(files):\n",
    "        effects = [\"pitchify\", \"time_stretch\", \"noise\"]\n",
    "        n_effects = n.random.randint(1, 4)\n",
    "        effects = n.random.choice(effects, n_effects, replace=False)\n",
    "\n",
    "        y , sr = lb.load(file, sr=None)\n",
    "        chunks , out = split(y, sr, 3, 10, 5)\n",
    "        chunk_paths = []\n",
    "\n",
    "        for i, chunk, out_d in enumerate(zip(chunks, out)):\n",
    "            chunk_paths.append(apply_effects(chunk,  effects,file.stem , sr))\n",
    "        \n",
    "\n",
    "        effects_file_names  = apply_effects(file, effects)\n",
    "        label[file ] = {\n",
    "            \"Index\" : i,\n",
    "            \"File\" : file,\n",
    "            \"Effects\" : effects,\n",
    "            \"Effect File Output/s\" : chunk_paths,\n",
    "            \"Time Stamps\" : out,\n",
    "        }"
   ]
  },
  {
   "cell_type": "code",
   "execution_count": null,
   "id": "8f753ad7",
   "metadata": {},
   "outputs": [],
   "source": [
    "ds_create(Path('./ds/'))"
   ]
  },
  {
   "cell_type": "code",
   "execution_count": null,
   "id": "53ddba34",
   "metadata": {},
   "outputs": [],
   "source": [
    "ra = n.arange(0, 10_000_000, dtype=n.float64).reshape(10, 1_000_000)\n",
    "ra.shape"
   ]
  },
  {
   "cell_type": "code",
   "execution_count": null,
   "metadata": {},
   "outputs": [],
   "source": [
    "_=save_chunks(ra, sr=44100, m_file='test_', path='chunks/')"
   ]
  },
  {
   "cell_type": "code",
   "execution_count": null,
   "id": "04ae0f9d",
   "metadata": {},
   "outputs": [],
   "source": [
    "y, sr = lb.load('./ds/pink.mp3', sr=None)\n",
    "chunks , outs = split(y, sr, 3, 10, 5)\n",
    "ch = {}\n",
    "for i, chunk in enumerate(chunks):\n",
    "    sf.\n"
   ]
  },
  {
   "cell_type": "code",
   "execution_count": null,
   "id": "40ca9979",
   "metadata": {},
   "outputs": [],
   "source": [
    "for i, chunk in enumerate(chunks):\n",
    "    print(i, chunk.size/sr)"
   ]
  },
  {
   "cell_type": "code",
   "execution_count": 77,
   "id": "6e1c1ead",
   "metadata": {},
   "outputs": [
    {
     "name": "stdout",
     "output_type": "stream",
     "text": [
      "1 a\n"
     ]
    }
   ],
   "source": [
    "aas , bs = \"a\" , \"b\"\n",
    "for i, (a) in enumerate(zip(aas, bs)):\n",
    "    # Your code here\n",
    "    print(i+1, a[0])"
   ]
  }
 ],
 "metadata": {
  "kernelspec": {
   "display_name": "Python 3 (ipykernel)",
   "language": "python",
   "name": "python3"
  },
  "language_info": {
   "codemirror_mode": {
    "name": "ipython",
    "version": 3
   },
   "file_extension": ".py",
   "mimetype": "text/x-python",
   "name": "python",
   "nbconvert_exporter": "python",
   "pygments_lexer": "ipython3",
   "version": "3.13.2"
  }
 },
 "nbformat": 4,
 "nbformat_minor": 5
}

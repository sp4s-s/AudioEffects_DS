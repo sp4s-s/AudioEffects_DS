{
 "cells": [
  {
   "cell_type": "markdown",
   "id": "eb5a0a78",
   "metadata": {},
   "source": [
    "### Test Load into audio, sr"
   ]
  },
  {
   "cell_type": "code",
   "execution_count": 57,
   "id": "6e61753f-77f3-4702-b999-55edd8c6e82c",
   "metadata": {},
   "outputs": [],
   "source": [
    "import librosa as lb\n",
    "import numpy as n\n",
    "import soundfile as sf\n",
    "from pathlib import Path"
   ]
  },
  {
   "cell_type": "code",
   "execution_count": 52,
   "id": "43574f2b-d757-4320-b79b-a8f21dd99d82",
   "metadata": {},
   "outputs": [],
   "source": [
    "p = './pink.mp3'\n",
    "audio , sr = lb.load(p, sr= None)"
   ]
  },
  {
   "cell_type": "code",
   "execution_count": 53,
   "id": "c9ffad71-249c-4bae-8e12-9f0cce326f0b",
   "metadata": {},
   "outputs": [
    {
     "name": "stdout",
     "output_type": "stream",
     "text": [
      "Duration is :  230.57414965986393\n"
     ]
    }
   ],
   "source": [
    "d = len(audio)/sr\n",
    "print(\"Duration is : \" ,d)\n",
    "ch=audio[30*sr:50*sr]\n",
    "sf.write(\"ch.wav\",ch, sr)"
   ]
  },
  {
   "cell_type": "code",
   "execution_count": 54,
   "id": "791077cf-d594-4f9f-ab7b-eb85ebec5242",
   "metadata": {},
   "outputs": [
    {
     "data": {
      "text/plain": [
       "np.float32(0.917444)"
      ]
     },
     "execution_count": 54,
     "metadata": {},
     "output_type": "execute_result"
    }
   ],
   "source": [
    "audio.max()"
   ]
  },
  {
   "cell_type": "code",
   "execution_count": 55,
   "id": "0a772f00-06e2-4bb7-9ceb-ed0cdde1ed7b",
   "metadata": {},
   "outputs": [
    {
     "data": {
      "text/plain": [
       "(array([[2, 2, 2, 2, 2, 2, 2, 2, 2, 2, 2, 2, 2, 2, 2, 2, 2, 2, 2, 2],\n",
       "        [2, 2, 2, 2, 2, 2, 2, 2, 2, 2, 2, 2, 2, 2, 2, 2, 2, 2, 2, 2]]),\n",
       " array([[3, 3, 3, 3, 3, 3, 3, 3, 3, 3]]))"
      ]
     },
     "execution_count": 55,
     "metadata": {},
     "output_type": "execute_result"
    }
   ],
   "source": [
    "a = n.full((2, 20) , 2)\n",
    "b = n.full((1, 10) , 3)\n",
    "a, b"
   ]
  },
  {
   "cell_type": "code",
   "execution_count": 56,
   "id": "8ac112fb-3cde-401a-b971-ed29c6b7b54b",
   "metadata": {},
   "outputs": [
    {
     "data": {
      "text/plain": [
       "array([[2, 2, 2, 2, 2, 2, 2, 2, 2, 2, 2, 2, 2, 2, 2, 2, 2, 2, 2, 2],\n",
       "       [2, 2, 2, 2, 2, 2, 2, 2, 2, 2, 2, 2, 2, 2, 2, 2, 2, 2, 2, 2]])"
      ]
     },
     "execution_count": 56,
     "metadata": {},
     "output_type": "execute_result"
    }
   ],
   "source": [
    "a"
   ]
  },
  {
   "cell_type": "code",
   "execution_count": null,
   "id": "f838e215",
   "metadata": {},
   "outputs": [],
   "source": []
  },
  {
   "cell_type": "code",
   "execution_count": null,
   "id": "e0444521",
   "metadata": {},
   "outputs": [],
   "source": []
  },
  {
   "cell_type": "markdown",
   "id": "a96ff3ef",
   "metadata": {},
   "source": [
    "### Function Creation"
   ]
  },
  {
   "cell_type": "markdown",
   "id": "de072ad0",
   "metadata": {},
   "source": [
    "#### Goal\n",
    "split into 3+ sec overlapped chunks\n",
    "Domain\n",
    "Original ============================\n",
    "domain   ==+======================+==\n"
   ]
  },
  {
   "cell_type": "code",
   "execution_count": 26,
   "id": "432f631d",
   "metadata": {},
   "outputs": [],
   "source": [
    "def split( y, sr, min = 3 , max = 10 , n_chunks = 5):\n",
    "    \"\"\"\n",
    "    Splits a signal into n_chunks of random length between min and max\n",
    "    \"\"\"\n",
    "    chunks = []\n",
    "    out = {}\n",
    "    for i in range(n_chunks):\n",
    "        start = n.random.randint(0, len(y) - sr * max)\n",
    "        end = start + n.random.randint(sr * min, sr * max)\n",
    "        chunks.append(y[start:end])\n",
    "        out[i] = (start, end)\n",
    "    print(\"Chunks:\", chunks)\n",
    "    print(\"Out:\", out)\n",
    "    return chunks , out"
   ]
  },
  {
   "cell_type": "code",
   "execution_count": 10,
   "id": "f5502f6b",
   "metadata": {},
   "outputs": [],
   "source": [
    "def y2wav(y, sr, path='chunk.wav'):\n",
    "    \"\"\"\n",
    "    Saves a signal as a wav file\n",
    "    \"\"\"\n",
    "    sf.write(path, y, sr)\n",
    "    return path"
   ]
  },
  {
   "cell_type": "code",
   "execution_count": 11,
   "id": "fa0247b7",
   "metadata": {},
   "outputs": [
    {
     "name": "stdout",
     "output_type": "stream",
     "text": [
      "chunk_0_0.wav\n",
      "chunk_0_1.wav\n",
      "chunk_0_2.wav\n",
      "chunk_0_3.wav\n",
      "chunk_0_4.wav\n",
      "chunk_1_0.wav\n",
      "chunk_1_1.wav\n",
      "chunk_1_2.wav\n",
      "chunk_1_3.wav\n",
      "chunk_1_4.wav\n",
      "chunk_2_0.wav\n",
      "chunk_2_1.wav\n",
      "chunk_2_2.wav\n",
      "chunk_2_3.wav\n",
      "chunk_2_4.wav\n",
      "chunk_3_0.wav\n",
      "chunk_3_1.wav\n",
      "chunk_3_2.wav\n",
      "chunk_3_3.wav\n",
      "chunk_3_4.wav\n",
      "chunk_4_0.wav\n",
      "chunk_4_1.wav\n",
      "chunk_4_2.wav\n",
      "chunk_4_3.wav\n",
      "chunk_4_4.wav\n"
     ]
    }
   ],
   "source": [
    "for i in range(5):\n",
    "    y = split(audio, sr, 3, 10, 5)\n",
    "    for j in range(len(y)):\n",
    "        y2wav(y[j], sr, f'chunk_{i}_{j}.wav')\n",
    "        print(f'chunk_{i}_{j}.wav')"
   ]
  },
  {
   "cell_type": "code",
   "execution_count": 12,
   "id": "bf8c32ab",
   "metadata": {},
   "outputs": [],
   "source": [
    "def remove_wav_files():\n",
    "    \"\"\"\n",
    "    Removes all wav files in the current directory and its subdirectories\n",
    "    \"\"\"\n",
    "    import os\n",
    "    for root, dir, files in os.walk('./'):\n",
    "        for file in files:\n",
    "            if file.endswith('.wav') & file.startswith('chunk_'):\n",
    "                print(os.path.join(root, file))\n",
    "                os.remove(os.path.join(root, file))"
   ]
  },
  {
   "cell_type": "code",
   "execution_count": 13,
   "id": "5db487cf",
   "metadata": {},
   "outputs": [
    {
     "name": "stdout",
     "output_type": "stream",
     "text": [
      "./chunk_1_2.wav\n",
      "./chunk_3_0.wav\n",
      "./chunk_3_1.wav\n",
      "./chunk_1_3.wav\n",
      "./chunk_1_1.wav\n",
      "./chunk_3_3.wav\n",
      "./chunk_3_2.wav\n",
      "./chunk_1_0.wav\n",
      "./chunk_1_4.wav\n",
      "./chunk_3_4.wav\n",
      "./chunk_2_3.wav\n",
      "./chunk_0_1.wav\n",
      "./chunk_4_4.wav\n",
      "./chunk_0_0.wav\n",
      "./chunk_2_2.wav\n",
      "./chunk_2_0.wav\n",
      "./chunk_0_2.wav\n",
      "./chunk_0_3.wav\n",
      "./chunk_2_1.wav\n",
      "./chunk_4_3.wav\n",
      "./chunk_4_2.wav\n",
      "./chunk_2_4.wav\n",
      "./chunk_0_4.wav\n",
      "./chunk_4_0.wav\n",
      "./chunk_4_1.wav\n"
     ]
    }
   ],
   "source": [
    "remove_wav_files()"
   ]
  },
  {
   "cell_type": "code",
   "execution_count": 29,
   "id": "f0462707",
   "metadata": {},
   "outputs": [
    {
     "name": "stdout",
     "output_type": "stream",
     "text": [
      "Chunks: [array([-0.04389122, -0.04804954, -0.0509458 , ...,  0.10755384,\n",
      "        0.11641155,  0.12578052], dtype=float32), array([-0.00262619, -0.01355862, -0.01877853, ...,  0.14296868,\n",
      "        0.12883559,  0.11888561], dtype=float32), array([-0.05094646, -0.06125657, -0.07110847, ...,  0.04197299,\n",
      "        0.03403009,  0.03170736], dtype=float32), array([ 0.04357758,  0.04060906,  0.03834049, ..., -0.09616322,\n",
      "       -0.09254937, -0.09060371], dtype=float32), array([-0.03836041, -0.03263124, -0.01709021, ..., -0.1342293 ,\n",
      "       -0.17826857, -0.19649264], dtype=float32)]\n",
      "Out: {0: (486391, 813587), 1: (9106992, 9383763), 2: (2548155, 2704394), 3: (885481, 1096865), 4: (6431756, 6846617)}\n"
     ]
    },
    {
     "data": {
      "text/plain": [
       "[array([-0.04389122, -0.04804954, -0.0509458 , ...,  0.10755384,\n",
       "         0.11641155,  0.12578052], dtype=float32),\n",
       " array([-0.00262619, -0.01355862, -0.01877853, ...,  0.14296868,\n",
       "         0.12883559,  0.11888561], dtype=float32),\n",
       " array([-0.05094646, -0.06125657, -0.07110847, ...,  0.04197299,\n",
       "         0.03403009,  0.03170736], dtype=float32),\n",
       " array([ 0.04357758,  0.04060906,  0.03834049, ..., -0.09616322,\n",
       "        -0.09254937, -0.09060371], dtype=float32),\n",
       " array([-0.03836041, -0.03263124, -0.01709021, ..., -0.1342293 ,\n",
       "        -0.17826857, -0.19649264], dtype=float32)]"
      ]
     },
     "execution_count": 29,
     "metadata": {},
     "output_type": "execute_result"
    }
   ],
   "source": [
    "a, b = split(audio, sr)  # Unpack the returned values\n",
    "a  # Display the chunks list"
   ]
  },
  {
   "cell_type": "code",
   "execution_count": 39,
   "id": "94ad78e4",
   "metadata": {},
   "outputs": [
    {
     "data": {
      "text/plain": [
       "[[11.029274376417234, 18.448684807256235],\n",
       " [206.50775510204082, 212.78374149659865],\n",
       " [57.781292517006804, 61.324126984126984],\n",
       " [20.078934240362813, 24.872222222222224],\n",
       " [145.84480725623584, 155.25208616780046]]"
      ]
     },
     "execution_count": 39,
     "metadata": {},
     "output_type": "execute_result"
    }
   ],
   "source": [
    "es = [[b[i][0] / sr, b[i][1] / sr] for i in range(len(b))]\n",
    "es"
   ]
  },
  {
   "cell_type": "code",
   "execution_count": null,
   "id": "aff89a04",
   "metadata": {},
   "outputs": [],
   "source": []
  },
  {
   "cell_type": "markdown",
   "id": "9007bb17",
   "metadata": {},
   "source": [
    "### Add effects to chunks"
   ]
  },
  {
   "cell_type": "code",
   "execution_count": null,
   "id": "324fc87c",
   "metadata": {},
   "outputs": [],
   "source": [
    "def pitchify(y, sr, n_steps=1):\n",
    "    \"\"\"\n",
    "    Changes the pitch of a signal by n_steps semitones\n",
    "    \"\"\"\n",
    "    y = lb.effects.pitch_shift(y, sr, n_steps)\n",
    "    return y\n",
    "def time_stretch(y, rate=1.0):\n",
    "    \"\"\"\n",
    "    Stretches a signal by a given rate\n",
    "    \"\"\"\n",
    "    y = lb.effects.time_stretch(y, rate)\n",
    "    return y\n",
    "def noise(y, noise_factor=0.005):\n",
    "    \"\"\"\n",
    "    Adds noise to a signal\n",
    "    \"\"\"\n",
    "    noise = n.random.randn(len(y))\n",
    "    y = y + noise_factor * noise\n",
    "    return y"
   ]
  },
  {
   "cell_type": "code",
   "execution_count": null,
   "id": "e8d1e23f",
   "metadata": {},
   "outputs": [
    {
     "data": {
      "text/plain": [
       "np.float32(-0.9298333)"
      ]
     },
     "execution_count": 49,
     "metadata": {},
     "output_type": "execute_result"
    }
   ],
   "source": []
  },
  {
   "cell_type": "code",
   "execution_count": null,
   "id": "2bcaf292",
   "metadata": {},
   "outputs": [
    {
     "data": {
      "text/plain": [
       "np.int64(7301468)"
      ]
     },
     "execution_count": 50,
     "metadata": {},
     "output_type": "execute_result"
    }
   ],
   "source": [
    "\n",
    "def ds_create(path: Path):\n",
    "    files = [files for files in path.glob('*.wav') or path.glob('*.mp3')]\n",
    "    if len(files) == 0:\n",
    "        print(\"No files found\")\n",
    "        return\n",
    "    print(f\"Found {len(files)} files\")\n",
    "    label = {}\n",
    "\n",
    "    for i, file in enumerate(files):\n",
    "        # Out of 3 possible effects\n",
    "        effects = [\"pitchify\", \"time_stretch\", \"noise\"]\n",
    "        n_effects = n.random.randint(1, 4) ,list()\n",
    "        effects = n.random.choice(effects, n_effects, replace=False)\n",
    "\n",
    "        effects_file_names  = apply_effects(file, effects)\n",
    "\n",
    "        label[file ] = {\n",
    "            \"Index\" : i,\n",
    "            \"File\" : file,\n",
    "            \"Effects\" : effects,\n",
    "            \"Effect File Output/s\" : effects_file_names\n",
    "        }"
   ]
  },
  {
   "cell_type": "code",
   "execution_count": 214,
   "id": "585c9ccc",
   "metadata": {},
   "outputs": [],
   "source": [
    "import random as r"
   ]
  },
  {
   "cell_type": "code",
   "execution_count": 77,
   "id": "251d8b69",
   "metadata": {},
   "outputs": [
    {
     "data": {
      "text/plain": [
       "array([ 1,  2,  3,  4,  5,  6,  7,  8,  9, 10], dtype=int8)"
      ]
     },
     "execution_count": 77,
     "metadata": {},
     "output_type": "execute_result"
    }
   ],
   "source": [
    "t = n.arange(1,11, dtype=n.int8)\n",
    "t"
   ]
  },
  {
   "cell_type": "code",
   "execution_count": 184,
   "id": "e4073058",
   "metadata": {},
   "outputs": [
    {
     "data": {
      "text/plain": [
       "[np.int8(2), np.int8(3), np.int8(9), np.int8(1)]"
      ]
     },
     "execution_count": 184,
     "metadata": {},
     "output_type": "execute_result"
    }
   ],
   "source": [
    "r.choices(t, k= 4)"
   ]
  },
  {
   "cell_type": "code",
   "execution_count": 238,
   "id": "f7412a03",
   "metadata": {},
   "outputs": [
    {
     "data": {
      "text/plain": [
       "['four', 'five', 'seven', 'six']"
      ]
     },
     "execution_count": 238,
     "metadata": {},
     "output_type": "execute_result"
    }
   ],
   "source": [
    "a=list([\"one\", \"two\", \"three\", \"four\", \"five\", \"six\", \"seven\", \"eight\", \"nine\", \"ten\"])\n",
    "r.choices(a, k=4)"
   ]
  },
  {
   "cell_type": "code",
   "execution_count": null,
   "id": "c2470670",
   "metadata": {},
   "outputs": [],
   "source": [
    "effects = [\"pitchify\", \"time_stretch\", \"noise\"]\n",
    "n_effects = n.random.randint(1, 4)\n",
    "effects = n.random.choice(effects, n_effects, replace=False)\n",
    "l={}\n",
    "file = \"ch.wav\"\n",
    "effect_file_names = apply_effects()\n",
    "l[ file ] = {\n",
    "    \"Index\" : i,\n",
    "    \"File\" : file,\n",
    "    \"Effects\" : effects,\n",
    "    \"Chunks\": l,\n",
    "}"
   ]
  },
  {
   "cell_type": "code",
   "execution_count": 246,
   "id": "c2662159",
   "metadata": {},
   "outputs": [
    {
     "data": {
      "text/plain": [
       "array(['noise', 'time_stretch', 'pitchify'], dtype='<U12')"
      ]
     },
     "execution_count": 246,
     "metadata": {},
     "output_type": "execute_result"
    }
   ],
   "source": [
    "l['ch.wav']['Effects']"
   ]
  },
  {
   "cell_type": "code",
   "execution_count": null,
   "id": "30b9d037",
   "metadata": {},
   "outputs": [],
   "source": [
    "def save_chunks(y, sr , m_file, path='chunks/' ):\n",
    "    \"\"\"\n",
    "    Saves chunks of a signal as wav files\n",
    "    \"\"\"\n",
    "    chunk_paths = {}\n",
    "    if not Path(path).exists():\n",
    "        Path(path).mkdir(parents=True, exist_ok=True)\n",
    "    for i, chunk in enumerate(y):\n",
    "        sf.write(f'{path}/{m_file}chunk_{i}.wav', chunk, sr)\n",
    "        print(f'{m_file}chunk_{i}.wav')\n",
    "        chunk_paths[i] = f'{path}/{m_file}_chunk_{i}.wav'\n",
    "    return chunk_paths"
   ]
  },
  {
   "cell_type": "code",
   "execution_count": null,
   "id": "98576af0",
   "metadata": {},
   "outputs": [],
   "source": [
    "def apply_effects(y, effects, m_file):\n",
    "    \"\"\"\n",
    "    Applies a list of effects to a signal for single original full track file\n",
    "    \"\"\"\n",
    "    file_names = []\n",
    "    for i, effect in enumerate(effects):\n",
    "        m_file = f\"{m_file}_{effect}_\" if effect != None else None\n",
    "        if effect == \"pitchify\":\n",
    "            steps = n.random.uniform(-3,3)\n",
    "            y = pitchify(y)\n",
    "            name = f'{m_file}_effect_pitchify_{i}.wav'\n",
    "            file_names.append(name)\n",
    "            save_chunks(y, sr, name)\n",
    "        elif effect == \"time_stretch\":\n",
    "            rate = n.random.uniform(0.4, 2.5)\n",
    "            y = time_stretch(y, rate)\n",
    "            name = f'{m_file}_effect_time_{i}.wav'\n",
    "            save_chunks(y, sr, name)\n",
    "            file_names.append(name)\n",
    "        elif effect == \"noise\":\n",
    "            noise_factor = n.random.uniform(0.001, 0.01)\n",
    "            y = noise(y, noise_factor)\n",
    "            name = f'{m_file}_effect_noise_{i}.wav'\n",
    "            save_chunks(y, sr, name)\n",
    "            file_names.append(name)\n",
    "\n",
    "    return file_names\n",
    "\n"
   ]
  },
  {
   "cell_type": "code",
   "execution_count": 247,
   "metadata": {},
   "outputs": [
    {
     "data": {
      "text/plain": [
       "array([ 0.31661403, -0.02217355, -0.13481525, -0.56541187, -1.21436748])"
      ]
     },
     "execution_count": 247,
     "metadata": {},
     "output_type": "execute_result"
    }
   ],
   "source": [
    "noise = n.random.randn(len(y))\n",
    "noise"
   ]
  },
  {
   "cell_type": "code",
   "execution_count": null,
   "id": "cfc76a27",
   "metadata": {},
   "outputs": [],
   "source": []
  },
  {
   "cell_type": "code",
   "execution_count": null,
   "id": "4290ef93",
   "metadata": {},
   "outputs": [],
   "source": []
  },
  {
   "cell_type": "code",
   "execution_count": null,
   "id": "3f89171f",
   "metadata": {},
   "outputs": [],
   "source": []
  },
  {
   "cell_type": "code",
   "execution_count": null,
   "id": "18562596",
   "metadata": {},
   "outputs": [],
   "source": []
  },
  {
   "cell_type": "code",
   "execution_count": null,
   "metadata": {},
   "outputs": [],
   "source": []
  }
 ],
 "metadata": {
  "kernelspec": {
   "display_name": "Python 3 (ipykernel)",
   "language": "python",
   "name": "python3"
  }
 },
 "nbformat": 4,
 "nbformat_minor": 5
}
